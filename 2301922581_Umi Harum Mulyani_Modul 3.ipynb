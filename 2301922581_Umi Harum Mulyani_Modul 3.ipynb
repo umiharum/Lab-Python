{
 "cells": [
  {
   "cell_type": "code",
   "execution_count": 1,
   "id": "683374e0",
   "metadata": {},
   "outputs": [],
   "source": [
    "# comparison operator"
   ]
  },
  {
   "cell_type": "code",
   "execution_count": 6,
   "id": "0408dfcb",
   "metadata": {},
   "outputs": [
    {
     "data": {
      "text/plain": [
       "False"
      ]
     },
     "execution_count": 6,
     "metadata": {},
     "output_type": "execute_result"
    }
   ],
   "source": [
    "a==7\n",
    "a=6\n",
    "a==7\n",
    "6==7"
   ]
  },
  {
   "cell_type": "code",
   "execution_count": 7,
   "id": "004161fc",
   "metadata": {},
   "outputs": [
    {
     "data": {
      "text/plain": [
       "True"
      ]
     },
     "execution_count": 7,
     "metadata": {},
     "output_type": "execute_result"
    }
   ],
   "source": [
    "a==7\n",
    "a=6\n",
    "a==7\n",
    "6==6"
   ]
  },
  {
   "cell_type": "code",
   "execution_count": 14,
   "id": "52a23090",
   "metadata": {},
   "outputs": [
    {
     "data": {
      "text/plain": [
       "False"
      ]
     },
     "execution_count": 14,
     "metadata": {},
     "output_type": "execute_result"
    }
   ],
   "source": [
    "\"AC/DC\" == \"Michael Jackson\""
   ]
  },
  {
   "cell_type": "code",
   "execution_count": 15,
   "id": "9f122eb1",
   "metadata": {},
   "outputs": [
    {
     "data": {
      "text/plain": [
       "True"
      ]
     },
     "execution_count": 15,
     "metadata": {},
     "output_type": "execute_result"
    }
   ],
   "source": [
    "\"AC/DC\" != \"Michael Jackson\""
   ]
  },
  {
   "cell_type": "code",
   "execution_count": 16,
   "id": "af9d6627",
   "metadata": {},
   "outputs": [],
   "source": [
    "# branching"
   ]
  },
  {
   "cell_type": "code",
   "execution_count": 21,
   "id": "b1cdd531",
   "metadata": {},
   "outputs": [
    {
     "name": "stdout",
     "output_type": "stream",
     "text": [
      "move on\n"
     ]
    }
   ],
   "source": [
    "age = 17\n",
    "if(age>18):\n",
    "    print(\"you can enter\")\n",
    "print(\"move on\")"
   ]
  },
  {
   "cell_type": "code",
   "execution_count": 23,
   "id": "9a06d2e3",
   "metadata": {},
   "outputs": [
    {
     "name": "stdout",
     "output_type": "stream",
     "text": [
      "you can enter\n",
      "move on\n"
     ]
    }
   ],
   "source": [
    "age = 19\n",
    "if(age>18):\n",
    "    print(\"you can enter\")\n",
    "print(\"move on\")"
   ]
  },
  {
   "cell_type": "code",
   "execution_count": 22,
   "id": "a36e3251",
   "metadata": {},
   "outputs": [
    {
     "name": "stdout",
     "output_type": "stream",
     "text": [
      "go see Meat Loaf\n",
      "move on\n"
     ]
    }
   ],
   "source": [
    "age = 17\n",
    "if(age>18):\n",
    "    print(\"you can enter\")\n",
    "    \n",
    "else:\n",
    "    print(\"go see Meat Loaf\")\n",
    "print(\"move on\")"
   ]
  },
  {
   "cell_type": "code",
   "execution_count": 24,
   "id": "42a7180e",
   "metadata": {},
   "outputs": [
    {
     "name": "stdout",
     "output_type": "stream",
     "text": [
      "you can enter\n",
      "move on\n"
     ]
    }
   ],
   "source": [
    "age = 19\n",
    "if(age>18):\n",
    "    print(\"you can enter\")\n",
    "    \n",
    "else:\n",
    "    print(\"go see Meat Loaf\")\n",
    "print(\"move on\")"
   ]
  },
  {
   "cell_type": "code",
   "execution_count": 36,
   "id": "27e25754",
   "metadata": {},
   "outputs": [
    {
     "name": "stdout",
     "output_type": "stream",
     "text": [
      "go see Pink Floyd\n",
      "move on\n"
     ]
    }
   ],
   "source": [
    "age = 18\n",
    "\n",
    "if(age>18):\n",
    "    print(\"you can enter\")\n",
    "    \n",
    "elif(age==18):\n",
    "    print(\"go see Pink Floyd\")\n",
    "    \n",
    "else:\n",
    "    print(\"go see Meat Loaf\")\n",
    "print(\"move on\")"
   ]
  },
  {
   "cell_type": "code",
   "execution_count": 25,
   "id": "ccc065a1",
   "metadata": {},
   "outputs": [
    {
     "name": "stdout",
     "output_type": "stream",
     "text": [
      "this is a\n"
     ]
    }
   ],
   "source": [
    "x='a'\n",
    "\n",
    "if(x!='a'):\n",
    "\n",
    "    print(\"this is not a\")\n",
    "\n",
    "else:\n",
    "\n",
    "    print(\"this is a\")"
   ]
  },
  {
   "cell_type": "code",
   "execution_count": 34,
   "id": "9c50aee0",
   "metadata": {},
   "outputs": [],
   "source": [
    "# logic operation"
   ]
  },
  {
   "cell_type": "code",
   "execution_count": 37,
   "id": "187ff1ad",
   "metadata": {},
   "outputs": [
    {
     "name": "stdout",
     "output_type": "stream",
     "text": [
      "The album was made in the 70's or 90's\n"
     ]
    }
   ],
   "source": [
    "album_year = 1990\n",
    "\n",
    "if(album_year < 1980) or (album_year > 1989):\n",
    "    print(\"The album was made in the 70's or 90's\")\n",
    "else:\n",
    "    print(\"The album was made in the 1980's\")"
   ]
  },
  {
   "cell_type": "code",
   "execution_count": 41,
   "id": "31552de9",
   "metadata": {},
   "outputs": [
    {
     "name": "stdout",
     "output_type": "stream",
     "text": [
      "The album was made in 80's\n"
     ]
    }
   ],
   "source": [
    "album_year = 1983\n",
    "\n",
    "if(album_year > 1979) and (album_year < 1990):\n",
    "    print(\"The album was made in 80's\")"
   ]
  },
  {
   "cell_type": "code",
   "execution_count": 42,
   "id": "e5acb874",
   "metadata": {},
   "outputs": [],
   "source": [
    "# loops"
   ]
  },
  {
   "cell_type": "code",
   "execution_count": 46,
   "id": "dc1f9652",
   "metadata": {},
   "outputs": [
    {
     "name": "stdout",
     "output_type": "stream",
     "text": [
      "['white', 'yellow', 'green', 'purple', 'blue']\n",
      "['white', 'white', 'green', 'purple', 'blue']\n",
      "['white', 'white', 'white', 'purple', 'blue']\n",
      "['white', 'white', 'white', 'white', 'blue']\n",
      "['white', 'white', 'white', 'white', 'white']\n"
     ]
    }
   ],
   "source": [
    "squares = [\"red\", \"yellow\", \"green\", \"purple\", \"blue\"]\n",
    "for i in range(0,5):\n",
    "    squares[i] = \"white\"\n",
    "    print(squares)"
   ]
  },
  {
   "cell_type": "code",
   "execution_count": 48,
   "id": "30c89b5f",
   "metadata": {},
   "outputs": [
    {
     "name": "stdout",
     "output_type": "stream",
     "text": [
      "red\n",
      "yellow\n",
      "green\n"
     ]
    }
   ],
   "source": [
    "squares = [\"red\", \"yellow\", \"green\"]\n",
    "for square in squares:\n",
    "    print(square)"
   ]
  },
  {
   "cell_type": "code",
   "execution_count": 50,
   "id": "c4f20d08",
   "metadata": {},
   "outputs": [
    {
     "name": "stdout",
     "output_type": "stream",
     "text": [
      "red\n",
      "0\n",
      "yellow\n",
      "1\n",
      "green\n",
      "2\n"
     ]
    }
   ],
   "source": [
    "squares = [\"red\", \"yellow\", \"green\"]\n",
    "for i, square in enumerate(squares):\n",
    "    print(square)\n",
    "    print(i)"
   ]
  },
  {
   "cell_type": "code",
   "execution_count": 53,
   "id": "942de013",
   "metadata": {},
   "outputs": [
    {
     "name": "stdout",
     "output_type": "stream",
     "text": [
      "['orange']\n",
      "['orange', 'orange']\n"
     ]
    }
   ],
   "source": [
    "squares = [\"orange\", \"orange\", \"purple\", \"blue\"]\n",
    "Newsquares=[]\n",
    "i=0\n",
    "while(squares[i]=='orange'):\n",
    "    Newsquares.append(squares[i])\n",
    "    i = i + 1\n",
    "    print(Newsquares)"
   ]
  },
  {
   "cell_type": "code",
   "execution_count": 55,
   "id": "6b66e4b6",
   "metadata": {},
   "outputs": [
    {
     "name": "stdout",
     "output_type": "stream",
     "text": [
      "3\n",
      "4\n",
      "5\n"
     ]
    }
   ],
   "source": [
    "A=[3,4,5]\n",
    "\n",
    "for a in A:\n",
    "    print(a)"
   ]
  },
  {
   "cell_type": "code",
   "execution_count": 57,
   "id": "e47fa4ed",
   "metadata": {},
   "outputs": [
    {
     "name": "stdout",
     "output_type": "stream",
     "text": [
      "1\n",
      "2\n"
     ]
    }
   ],
   "source": [
    "x=3\n",
    "\n",
    "y=1\n",
    "\n",
    "while(y!= x):\n",
    "    print(y)\n",
    "    y=y+1"
   ]
  },
  {
   "cell_type": "code",
   "execution_count": 58,
   "id": "c8686c70",
   "metadata": {},
   "outputs": [],
   "source": [
    "# functions"
   ]
  },
  {
   "cell_type": "code",
   "execution_count": 61,
   "id": "3cb95918",
   "metadata": {},
   "outputs": [
    {
     "data": {
      "text/plain": [
       "8"
      ]
     },
     "execution_count": 61,
     "metadata": {},
     "output_type": "execute_result"
    }
   ],
   "source": [
    "album_rating = [10.0, 8.5, 9.5, 7.0, 7.0, 9.5, 9.0, 9.5]\n",
    "L = len(album_rating)\n",
    "L"
   ]
  },
  {
   "cell_type": "code",
   "execution_count": 62,
   "id": "7d3e84d9",
   "metadata": {},
   "outputs": [
    {
     "data": {
      "text/plain": [
       "70.0"
      ]
     },
     "execution_count": 62,
     "metadata": {},
     "output_type": "execute_result"
    }
   ],
   "source": [
    "album_rating = [10.0, 8.5, 9.5, 7.0, 7.0, 9.5, 9.0, 9.5]\n",
    "S = sum(album_rating)\n",
    "S"
   ]
  },
  {
   "cell_type": "code",
   "execution_count": 63,
   "id": "3438cae4",
   "metadata": {},
   "outputs": [
    {
     "data": {
      "text/plain": [
       "[7.0, 7.0, 8.5, 9.0, 9.5, 9.5, 9.5, 10.0]"
      ]
     },
     "execution_count": 63,
     "metadata": {},
     "output_type": "execute_result"
    }
   ],
   "source": [
    "album_rating = [10.0, 8.5, 9.5, 7.0, 7.0, 9.5, 9.0, 9.5]\n",
    "sorted_album = sorted(album_rating)\n",
    "sorted_album"
   ]
  },
  {
   "cell_type": "code",
   "execution_count": 65,
   "id": "35552af9",
   "metadata": {},
   "outputs": [
    {
     "data": {
      "text/plain": [
       "[7.0, 7.0, 8.5, 9.0, 9.5, 9.5, 9.5, 10.0]"
      ]
     },
     "execution_count": 65,
     "metadata": {},
     "output_type": "execute_result"
    }
   ],
   "source": [
    "album_rating = [10.0, 8.5, 9.5, 7.0, 7.0, 9.5, 9.0, 9.5]\n",
    "album_rating.sort()\n",
    "album_rating"
   ]
  },
  {
   "cell_type": "code",
   "execution_count": 67,
   "id": "7e483364",
   "metadata": {},
   "outputs": [
    {
     "data": {
      "text/plain": [
       "6"
      ]
     },
     "execution_count": 67,
     "metadata": {},
     "output_type": "execute_result"
    }
   ],
   "source": [
    "def add1(a):\n",
    "    b = a + 1\n",
    "    return b\n",
    "add1(5)"
   ]
  },
  {
   "cell_type": "code",
   "execution_count": 70,
   "id": "847a05bb",
   "metadata": {},
   "outputs": [
    {
     "data": {
      "text/plain": [
       "11"
      ]
     },
     "execution_count": 70,
     "metadata": {},
     "output_type": "execute_result"
    }
   ],
   "source": [
    "def add1(a):\n",
    "    b = a + 1\n",
    "    return b\n",
    "c = add1(10)\n",
    "c"
   ]
  },
  {
   "cell_type": "code",
   "execution_count": 71,
   "id": "e484b1e4",
   "metadata": {},
   "outputs": [
    {
     "data": {
      "text/plain": [
       "9"
      ]
     },
     "execution_count": 71,
     "metadata": {},
     "output_type": "execute_result"
    }
   ],
   "source": [
    "def add1(a):\n",
    "    b = a + 1\n",
    "    return b\n",
    "c = add1(10)\n",
    "c\n",
    "d = add1(8)\n",
    "d"
   ]
  },
  {
   "cell_type": "code",
   "execution_count": 74,
   "id": "06b10153",
   "metadata": {},
   "outputs": [
    {
     "data": {
      "text/plain": [
       "6"
      ]
     },
     "execution_count": 74,
     "metadata": {},
     "output_type": "execute_result"
    }
   ],
   "source": [
    "def Mult(a,b):\n",
    "    c = a * b\n",
    "    return c\n",
    "Mult(2,3)"
   ]
  },
  {
   "cell_type": "code",
   "execution_count": 76,
   "id": "c1ea9ae6",
   "metadata": {},
   "outputs": [
    {
     "data": {
      "text/plain": [
       "'Michael Jackson Michael Jackson '"
      ]
     },
     "execution_count": 76,
     "metadata": {},
     "output_type": "execute_result"
    }
   ],
   "source": [
    "def Mult(a,b):\n",
    "    c = a * b\n",
    "    return c\n",
    "Mult(2,\"Michael Jackson \")"
   ]
  },
  {
   "cell_type": "code",
   "execution_count": 78,
   "id": "009e2779",
   "metadata": {},
   "outputs": [
    {
     "name": "stdout",
     "output_type": "stream",
     "text": [
      "Michael Jackson\n"
     ]
    }
   ],
   "source": [
    "def MJ():\n",
    "    print(\"Michael Jackson\")\n",
    "MJ()"
   ]
  },
  {
   "cell_type": "code",
   "execution_count": 79,
   "id": "e9a5cfc6",
   "metadata": {},
   "outputs": [
    {
     "name": "stdout",
     "output_type": "stream",
     "text": [
      "None\n"
     ]
    }
   ],
   "source": [
    "def NoWork():\n",
    "    pass\n",
    "print(NoWork())"
   ]
  },
  {
   "cell_type": "code",
   "execution_count": 81,
   "id": "1b7cd503",
   "metadata": {},
   "outputs": [
    {
     "name": "stdout",
     "output_type": "stream",
     "text": [
      "2 plus 1 equals 3\n"
     ]
    },
    {
     "data": {
      "text/plain": [
       "3"
      ]
     },
     "execution_count": 81,
     "metadata": {},
     "output_type": "execute_result"
    }
   ],
   "source": [
    "def add1(a):\n",
    "    b = a + 1;\n",
    "    print(a, \"plus 1 equals\", b)\n",
    "    return b\n",
    "\n",
    "add1(2)"
   ]
  },
  {
   "cell_type": "code",
   "execution_count": 82,
   "id": "3b6a58a0",
   "metadata": {},
   "outputs": [
    {
     "name": "stdout",
     "output_type": "stream",
     "text": [
      "Album 0 Rating is  10.0\n",
      "Album 1 Rating is  8.5\n",
      "Album 2 Rating is  9.5\n"
     ]
    }
   ],
   "source": [
    "def printStuff(Stuff):\n",
    "    for i,s in enumerate(Stuff):\n",
    "        print(\"Album\", i, \"Rating is \", s)\n",
    "\n",
    "album_ratings = [10.0, 8.5, 9.5]\n",
    "printStuff(album_ratings)"
   ]
  },
  {
   "cell_type": "code",
   "execution_count": 84,
   "id": "25962e72",
   "metadata": {},
   "outputs": [
    {
     "name": "stdout",
     "output_type": "stream",
     "text": [
      "Michael Jackson\n",
      "AC/DC\n",
      "Pink Floyd\n"
     ]
    }
   ],
   "source": [
    "def ArtistNames(*names):\n",
    "    for name in names:\n",
    "        print(name)\n",
    "\n",
    "ArtistNames(\"Michael Jackson\", \"AC/DC\", \"Pink Floyd\")"
   ]
  },
  {
   "cell_type": "code",
   "execution_count": 85,
   "id": "bc83dd66",
   "metadata": {},
   "outputs": [
    {
     "name": "stdout",
     "output_type": "stream",
     "text": [
      "('Michael Jackson', 'AC/DC', 'Pink Floyd')\n",
      "('Michael Jackson', 'AC/DC', 'Pink Floyd')\n",
      "('Michael Jackson', 'AC/DC', 'Pink Floyd')\n"
     ]
    }
   ],
   "source": [
    "def ArtistNames(*names):\n",
    "    for name in names:\n",
    "        print(names)\n",
    "\n",
    "ArtistNames(\"Michael Jackson\", \"AC/DC\", \"Pink Floyd\")"
   ]
  },
  {
   "cell_type": "code",
   "execution_count": 92,
   "id": "f298043f",
   "metadata": {},
   "outputs": [
    {
     "name": "stdout",
     "output_type": "stream",
     "text": [
      "ACDC\n"
     ]
    },
    {
     "data": {
      "text/plain": [
       "'ACDC'"
      ]
     },
     "execution_count": 92,
     "metadata": {},
     "output_type": "execute_result"
    }
   ],
   "source": [
    "def AddDC(x):\n",
    "    x = x + \"DC\"\n",
    "    print(x)\n",
    "    return x\n",
    "x = \"AC\"\n",
    "z = AddDC(x)\n",
    "z"
   ]
  },
  {
   "cell_type": "code",
   "execution_count": 95,
   "id": "8d805706",
   "metadata": {},
   "outputs": [
    {
     "data": {
      "text/plain": [
       "1982"
      ]
     },
     "execution_count": 95,
     "metadata": {},
     "output_type": "execute_result"
    }
   ],
   "source": [
    "def Thriller():\n",
    "    Date = 1982\n",
    "    return Date\n",
    "\n",
    "Thriller()"
   ]
  },
  {
   "cell_type": "code",
   "execution_count": 96,
   "id": "bccda1eb",
   "metadata": {},
   "outputs": [
    {
     "name": "stdout",
     "output_type": "stream",
     "text": [
      "1982\n"
     ]
    }
   ],
   "source": [
    "def Thriller():\n",
    "    Date = 1982\n",
    "    return Date\n",
    "\n",
    "Date = 2017\n",
    "print(Thriller())"
   ]
  },
  {
   "cell_type": "code",
   "execution_count": 98,
   "id": "0983ca38",
   "metadata": {},
   "outputs": [
    {
     "name": "stdout",
     "output_type": "stream",
     "text": [
      "1982\n",
      "2017\n"
     ]
    }
   ],
   "source": [
    "def Thriller():\n",
    "    Date = 1982\n",
    "    return Date\n",
    "\n",
    "Date = 2017\n",
    "print(Thriller())\n",
    "print(Date)"
   ]
  },
  {
   "cell_type": "code",
   "execution_count": 100,
   "id": "26a67f4e",
   "metadata": {},
   "outputs": [
    {
     "name": "stdout",
     "output_type": "stream",
     "text": [
      "45 million\n"
     ]
    }
   ],
   "source": [
    "def PinkFloyd():\n",
    "    global ClaimedSales\n",
    "    ClaimedSales = \"45 million\"\n",
    "    return ClaimedSales\n",
    "\n",
    "PinkFloyd()\n",
    "print(ClaimedSales)"
   ]
  },
  {
   "cell_type": "code",
   "execution_count": 102,
   "id": "33aece53",
   "metadata": {},
   "outputs": [],
   "source": [
    "# object and clases"
   ]
  },
  {
   "cell_type": "code",
   "execution_count": 129,
   "id": "5630df44",
   "metadata": {},
   "outputs": [
    {
     "ename": "SyntaxError",
     "evalue": "invalid syntax (<ipython-input-129-99d790a37405>, line 6)",
     "output_type": "error",
     "traceback": [
      "\u001b[1;36m  File \u001b[1;32m\"<ipython-input-129-99d790a37405>\"\u001b[1;36m, line \u001b[1;32m6\u001b[0m\n\u001b[1;33m    def displayCircle(self)\u001b[0m\n\u001b[1;37m                           ^\u001b[0m\n\u001b[1;31mSyntaxError\u001b[0m\u001b[1;31m:\u001b[0m invalid syntax\n"
     ]
    }
   ],
   "source": [
    "class Circle:\n",
    "    def __init__(self, radius, color):\n",
    "        self.radius = radius;\n",
    "        self.color = color;\n",
    "    \n",
    "    def displayCircle(self)\n",
    "    print(\"Radius : \", self.radius, \"Color : \", self.color)\n",
    "    \n",
    "C1 = Circle(10,\"red\")\n",
    "C1.displayCircle"
   ]
  },
  {
   "cell_type": "code",
   "execution_count": null,
   "id": "6f3dc619",
   "metadata": {},
   "outputs": [],
   "source": []
  }
 ],
 "metadata": {
  "kernelspec": {
   "display_name": "Python 3",
   "language": "python",
   "name": "python3"
  },
  "language_info": {
   "codemirror_mode": {
    "name": "ipython",
    "version": 3
   },
   "file_extension": ".py",
   "mimetype": "text/x-python",
   "name": "python",
   "nbconvert_exporter": "python",
   "pygments_lexer": "ipython3",
   "version": "3.8.8"
  }
 },
 "nbformat": 4,
 "nbformat_minor": 5
}
