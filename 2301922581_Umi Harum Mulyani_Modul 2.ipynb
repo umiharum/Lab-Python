{
 "cells": [
  {
   "cell_type": "code",
   "execution_count": 1,
   "id": "94f98a4c",
   "metadata": {},
   "outputs": [],
   "source": [
    "# Tuples"
   ]
  },
  {
   "cell_type": "code",
   "execution_count": 2,
   "id": "9e84f1fd",
   "metadata": {},
   "outputs": [],
   "source": [
    "Tuple1 = (\"disco\", 10, 1.2)"
   ]
  },
  {
   "cell_type": "code",
   "execution_count": 3,
   "id": "03cfca4a",
   "metadata": {},
   "outputs": [
    {
     "data": {
      "text/plain": [
       "'disco'"
      ]
     },
     "execution_count": 3,
     "metadata": {},
     "output_type": "execute_result"
    }
   ],
   "source": [
    "Tuple1[0]"
   ]
  },
  {
   "cell_type": "code",
   "execution_count": 4,
   "id": "da43b7a9",
   "metadata": {},
   "outputs": [
    {
     "data": {
      "text/plain": [
       "1.2"
      ]
     },
     "execution_count": 4,
     "metadata": {},
     "output_type": "execute_result"
    }
   ],
   "source": [
    "Tuple1[2]"
   ]
  },
  {
   "cell_type": "code",
   "execution_count": 5,
   "id": "e53abf75",
   "metadata": {},
   "outputs": [
    {
     "data": {
      "text/plain": [
       "'disco'"
      ]
     },
     "execution_count": 5,
     "metadata": {},
     "output_type": "execute_result"
    }
   ],
   "source": [
    "Tuple1[-3]"
   ]
  },
  {
   "cell_type": "code",
   "execution_count": 6,
   "id": "d1178e7d",
   "metadata": {},
   "outputs": [
    {
     "data": {
      "text/plain": [
       "('disco', 10, 1.2, 'hard rock', 10)"
      ]
     },
     "execution_count": 6,
     "metadata": {},
     "output_type": "execute_result"
    }
   ],
   "source": [
    "Tuple2 = Tuple1 + (\"hard rock\", 10)\n",
    "Tuple2"
   ]
  },
  {
   "cell_type": "code",
   "execution_count": 7,
   "id": "508182d8",
   "metadata": {},
   "outputs": [],
   "source": [
    "# Tuples slicing"
   ]
  },
  {
   "cell_type": "code",
   "execution_count": 8,
   "id": "d303189b",
   "metadata": {},
   "outputs": [
    {
     "data": {
      "text/plain": [
       "('disco', 10, 1.2)"
      ]
     },
     "execution_count": 8,
     "metadata": {},
     "output_type": "execute_result"
    }
   ],
   "source": [
    "Tuple2[0:3]"
   ]
  },
  {
   "cell_type": "code",
   "execution_count": 9,
   "id": "b1145747",
   "metadata": {},
   "outputs": [
    {
     "data": {
      "text/plain": [
       "('hard rock', 10)"
      ]
     },
     "execution_count": 9,
     "metadata": {},
     "output_type": "execute_result"
    }
   ],
   "source": [
    "Tuple2[3:5]"
   ]
  },
  {
   "cell_type": "code",
   "execution_count": 10,
   "id": "11d6f44d",
   "metadata": {},
   "outputs": [
    {
     "data": {
      "text/plain": [
       "5"
      ]
     },
     "execution_count": 10,
     "metadata": {},
     "output_type": "execute_result"
    }
   ],
   "source": [
    "len(Tuple2)"
   ]
  },
  {
   "cell_type": "code",
   "execution_count": 11,
   "id": "afd9e683",
   "metadata": {},
   "outputs": [],
   "source": [
    "# Tuples immutable"
   ]
  },
  {
   "cell_type": "code",
   "execution_count": 12,
   "id": "32c8d221",
   "metadata": {},
   "outputs": [
    {
     "name": "stdout",
     "output_type": "stream",
     "text": [
      "(10, 9, 6, 5, 10, 8, 9, 6, 2)\n"
     ]
    }
   ],
   "source": [
    "ratings = (10, 9, 6, 5, 10, 8, 9, 6, 2)\n",
    "print(ratings)"
   ]
  },
  {
   "cell_type": "code",
   "execution_count": 13,
   "id": "3347eafd",
   "metadata": {},
   "outputs": [
    {
     "name": "stdout",
     "output_type": "stream",
     "text": [
      "[2, 5, 6, 6, 8, 9, 9, 10, 10]\n"
     ]
    }
   ],
   "source": [
    "ratingsSorted = sorted(ratings)\n",
    "print(ratingsSorted)"
   ]
  },
  {
   "cell_type": "code",
   "execution_count": 14,
   "id": "6972ac97",
   "metadata": {},
   "outputs": [],
   "source": [
    "# Tuple nesting"
   ]
  },
  {
   "cell_type": "code",
   "execution_count": 15,
   "id": "9693eaf4",
   "metadata": {},
   "outputs": [],
   "source": [
    "NT = (1, 2, (\"pop\", \"rock\"), (3, 4), (\"disco\", (1, 2)))"
   ]
  },
  {
   "cell_type": "code",
   "execution_count": 16,
   "id": "35d13993",
   "metadata": {},
   "outputs": [
    {
     "data": {
      "text/plain": [
       "('pop', 'rock')"
      ]
     },
     "execution_count": 16,
     "metadata": {},
     "output_type": "execute_result"
    }
   ],
   "source": [
    "NT[2]"
   ]
  },
  {
   "cell_type": "code",
   "execution_count": 17,
   "id": "45ab2fb5",
   "metadata": {},
   "outputs": [
    {
     "data": {
      "text/plain": [
       "'rock'"
      ]
     },
     "execution_count": 17,
     "metadata": {},
     "output_type": "execute_result"
    }
   ],
   "source": [
    "NT[2][1]"
   ]
  },
  {
   "cell_type": "code",
   "execution_count": 18,
   "id": "b511af17",
   "metadata": {},
   "outputs": [],
   "source": [
    "# Lists"
   ]
  },
  {
   "cell_type": "code",
   "execution_count": 19,
   "id": "548f98a6",
   "metadata": {},
   "outputs": [],
   "source": [
    "L = [\"Michael Jackson\", 10.1, 1982, \"MJ\", 1]"
   ]
  },
  {
   "cell_type": "code",
   "execution_count": 20,
   "id": "ce923bbe",
   "metadata": {},
   "outputs": [
    {
     "data": {
      "text/plain": [
       "['MJ', 1]"
      ]
     },
     "execution_count": 20,
     "metadata": {},
     "output_type": "execute_result"
    }
   ],
   "source": [
    "L[3:5]"
   ]
  },
  {
   "cell_type": "code",
   "execution_count": 21,
   "id": "ee8362a8",
   "metadata": {},
   "outputs": [
    {
     "data": {
      "text/plain": [
       "10.1"
      ]
     },
     "execution_count": 21,
     "metadata": {},
     "output_type": "execute_result"
    }
   ],
   "source": [
    "L[-4]"
   ]
  },
  {
   "cell_type": "code",
   "execution_count": 22,
   "id": "1b4b579b",
   "metadata": {},
   "outputs": [
    {
     "name": "stdout",
     "output_type": "stream",
     "text": [
      "['Michael Jackson', 10.1, 1982, 'MJ', 1, 'pop', 10]\n"
     ]
    }
   ],
   "source": [
    "L.extend([\"pop\", 10])\n",
    "print(L)"
   ]
  },
  {
   "cell_type": "code",
   "execution_count": 23,
   "id": "df993dbc",
   "metadata": {},
   "outputs": [
    {
     "name": "stdout",
     "output_type": "stream",
     "text": [
      "['Michael Jackson', 10.1, 1982, 'MJ', 1, 'pop', 10, ['pop', 10]]\n"
     ]
    }
   ],
   "source": [
    "L.append([\"pop\", 10])\n",
    "print(L)"
   ]
  },
  {
   "cell_type": "code",
   "execution_count": 24,
   "id": "8a0d95b0",
   "metadata": {},
   "outputs": [],
   "source": [
    "# Tuples"
   ]
  },
  {
   "cell_type": "code",
   "execution_count": 25,
   "id": "836a1f1e",
   "metadata": {},
   "outputs": [],
   "source": [
    "A = [\"disco\", 10, 1.2]"
   ]
  },
  {
   "cell_type": "code",
   "execution_count": 26,
   "id": "3f96ad09",
   "metadata": {},
   "outputs": [
    {
     "name": "stdout",
     "output_type": "stream",
     "text": [
      "['hard rock', 10, 1.2]\n"
     ]
    }
   ],
   "source": [
    "A[0] = \"hard rock\"\n",
    "print(A)"
   ]
  },
  {
   "cell_type": "code",
   "execution_count": 27,
   "id": "0604afa1",
   "metadata": {},
   "outputs": [
    {
     "name": "stdout",
     "output_type": "stream",
     "text": [
      "[10, 1.2]\n"
     ]
    }
   ],
   "source": [
    "del(A[0])\n",
    "print(A)"
   ]
  },
  {
   "cell_type": "code",
   "execution_count": 28,
   "id": "5b18f3f1",
   "metadata": {},
   "outputs": [],
   "source": [
    "# convert string to list"
   ]
  },
  {
   "cell_type": "code",
   "execution_count": 29,
   "id": "a4ae6784",
   "metadata": {},
   "outputs": [],
   "source": [
    "A = [\"hard rock\", 10, 1.2]"
   ]
  },
  {
   "cell_type": "code",
   "execution_count": 30,
   "id": "6d90ea18",
   "metadata": {},
   "outputs": [
    {
     "data": {
      "text/plain": [
       "['hard', 'rock']"
      ]
     },
     "execution_count": 30,
     "metadata": {},
     "output_type": "execute_result"
    }
   ],
   "source": [
    "\"hard rock\".split()"
   ]
  },
  {
   "cell_type": "code",
   "execution_count": 31,
   "id": "525002f3",
   "metadata": {},
   "outputs": [
    {
     "data": {
      "text/plain": [
       "['A', 'B', 'C', 'D']"
      ]
     },
     "execution_count": 31,
     "metadata": {},
     "output_type": "execute_result"
    }
   ],
   "source": [
    "\"A,B,C,D\".split(\",\")"
   ]
  },
  {
   "cell_type": "code",
   "execution_count": 32,
   "id": "e65ad1ab",
   "metadata": {},
   "outputs": [],
   "source": [
    "# Lists aliasing"
   ]
  },
  {
   "cell_type": "code",
   "execution_count": 33,
   "id": "a6bcb0b6",
   "metadata": {},
   "outputs": [],
   "source": [
    "A = [\"hard rock\", 10, 1.2]\n",
    "B = A"
   ]
  },
  {
   "cell_type": "code",
   "execution_count": 34,
   "id": "8bde937f",
   "metadata": {},
   "outputs": [
    {
     "data": {
      "text/plain": [
       "'hard rock'"
      ]
     },
     "execution_count": 34,
     "metadata": {},
     "output_type": "execute_result"
    }
   ],
   "source": [
    "B[0]"
   ]
  },
  {
   "cell_type": "code",
   "execution_count": 35,
   "id": "05ba7080",
   "metadata": {},
   "outputs": [],
   "source": [
    "A[0] = \"banana\""
   ]
  },
  {
   "cell_type": "code",
   "execution_count": 36,
   "id": "01db3ceb",
   "metadata": {},
   "outputs": [
    {
     "data": {
      "text/plain": [
       "'banana'"
      ]
     },
     "execution_count": 36,
     "metadata": {},
     "output_type": "execute_result"
    }
   ],
   "source": [
    "B[0]"
   ]
  },
  {
   "cell_type": "code",
   "execution_count": 37,
   "id": "8a129301",
   "metadata": {},
   "outputs": [],
   "source": [
    "# Lists clone"
   ]
  },
  {
   "cell_type": "code",
   "execution_count": 38,
   "id": "e55b8d9e",
   "metadata": {},
   "outputs": [],
   "source": [
    "A = [\"hard rock\", 10, 1.2]\n",
    "B = A[:]"
   ]
  },
  {
   "cell_type": "code",
   "execution_count": 39,
   "id": "def6dbbe",
   "metadata": {},
   "outputs": [],
   "source": [
    "A[0] = \"banana\""
   ]
  },
  {
   "cell_type": "code",
   "execution_count": 40,
   "id": "84faaf09",
   "metadata": {},
   "outputs": [
    {
     "data": {
      "text/plain": [
       "'hard rock'"
      ]
     },
     "execution_count": 40,
     "metadata": {},
     "output_type": "execute_result"
    }
   ],
   "source": [
    "B[0]"
   ]
  },
  {
   "cell_type": "code",
   "execution_count": 41,
   "id": "4aa12f36",
   "metadata": {},
   "outputs": [
    {
     "data": {
      "text/plain": [
       "[10, 1.2]"
      ]
     },
     "execution_count": 41,
     "metadata": {},
     "output_type": "execute_result"
    }
   ],
   "source": [
    "A[1:]"
   ]
  },
  {
   "cell_type": "code",
   "execution_count": 42,
   "id": "2109fa7c",
   "metadata": {},
   "outputs": [],
   "source": [
    "# Sets"
   ]
  },
  {
   "cell_type": "code",
   "execution_count": 43,
   "id": "ac92096c",
   "metadata": {},
   "outputs": [
    {
     "data": {
      "text/plain": [
       "{'R&B', 'disco', 'hard rock', 'pop', 'rock', 'soul'}"
      ]
     },
     "execution_count": 43,
     "metadata": {},
     "output_type": "execute_result"
    }
   ],
   "source": [
    "set1 = {\"pop\", \"soul\", \"hard rock\", \"rock\", \"R&B\", \"rock\", \"disco\"}\n",
    "set1"
   ]
  },
  {
   "cell_type": "code",
   "execution_count": 44,
   "id": "99098090",
   "metadata": {},
   "outputs": [],
   "source": [
    "album_list = [\"Michael Jackson\", \"Thriller\", \"Thriller\", 1982]"
   ]
  },
  {
   "cell_type": "code",
   "execution_count": 45,
   "id": "9d9f5c4c",
   "metadata": {},
   "outputs": [
    {
     "data": {
      "text/plain": [
       "{1982, 'Michael Jackson', 'Thriller'}"
      ]
     },
     "execution_count": 45,
     "metadata": {},
     "output_type": "execute_result"
    }
   ],
   "source": [
    "album_set = set(album_list)\n",
    "album_set"
   ]
  },
  {
   "cell_type": "code",
   "execution_count": 46,
   "id": "884aab13",
   "metadata": {},
   "outputs": [],
   "source": [
    "# Sets operation"
   ]
  },
  {
   "cell_type": "code",
   "execution_count": 47,
   "id": "1ca9fd4b",
   "metadata": {},
   "outputs": [],
   "source": [
    "A = {\"Thriller\", \"AC/DC\", \"Back in Black\"}"
   ]
  },
  {
   "cell_type": "code",
   "execution_count": 48,
   "id": "391eec32",
   "metadata": {},
   "outputs": [
    {
     "data": {
      "text/plain": [
       "{'AC/DC', 'Back in Black', 'NSYNC', 'Thriller'}"
      ]
     },
     "execution_count": 48,
     "metadata": {},
     "output_type": "execute_result"
    }
   ],
   "source": [
    "A.add(\"NSYNC\")\n",
    "A"
   ]
  },
  {
   "cell_type": "code",
   "execution_count": 49,
   "id": "b416dbed",
   "metadata": {},
   "outputs": [
    {
     "data": {
      "text/plain": [
       "{'AC/DC', 'Back in Black', 'Thriller'}"
      ]
     },
     "execution_count": 49,
     "metadata": {},
     "output_type": "execute_result"
    }
   ],
   "source": [
    "A.remove(\"NSYNC\")\n",
    "A"
   ]
  },
  {
   "cell_type": "code",
   "execution_count": 50,
   "id": "6b29dbd4",
   "metadata": {},
   "outputs": [
    {
     "data": {
      "text/plain": [
       "True"
      ]
     },
     "execution_count": 50,
     "metadata": {},
     "output_type": "execute_result"
    }
   ],
   "source": [
    "\"AC/DC\" in A"
   ]
  },
  {
   "cell_type": "code",
   "execution_count": 51,
   "id": "34fce23b",
   "metadata": {},
   "outputs": [
    {
     "data": {
      "text/plain": [
       "False"
      ]
     },
     "execution_count": 51,
     "metadata": {},
     "output_type": "execute_result"
    }
   ],
   "source": [
    "\"Who\" in A"
   ]
  },
  {
   "cell_type": "code",
   "execution_count": 52,
   "id": "5d9aab74",
   "metadata": {},
   "outputs": [],
   "source": [
    "# Sets mathematical set operation"
   ]
  },
  {
   "cell_type": "code",
   "execution_count": 53,
   "id": "843c52aa",
   "metadata": {},
   "outputs": [
    {
     "data": {
      "text/plain": [
       "{'AC/DC', 'Back in Black', 'Thriller'}"
      ]
     },
     "execution_count": 53,
     "metadata": {},
     "output_type": "execute_result"
    }
   ],
   "source": [
    "album_set_1 = {\"AC/DC\", \"Back in Black\", \"Thriller\"}\n",
    "album_set_1"
   ]
  },
  {
   "cell_type": "code",
   "execution_count": 54,
   "id": "492c3c2b",
   "metadata": {},
   "outputs": [
    {
     "data": {
      "text/plain": [
       "{'AC/DC', 'Back in Black', 'The Dark Side of the Moon'}"
      ]
     },
     "execution_count": 54,
     "metadata": {},
     "output_type": "execute_result"
    }
   ],
   "source": [
    "album_set_2 = {\"AC/DC\", \"Back in Black\", \"The Dark Side of the Moon\"}\n",
    "album_set_2"
   ]
  },
  {
   "cell_type": "code",
   "execution_count": 55,
   "id": "5cb8cbaf",
   "metadata": {},
   "outputs": [
    {
     "data": {
      "text/plain": [
       "{'AC/DC', 'Back in Black'}"
      ]
     },
     "execution_count": 55,
     "metadata": {},
     "output_type": "execute_result"
    }
   ],
   "source": [
    "album_set_3 = album_set_1 & album_set_2\n",
    "album_set_3"
   ]
  },
  {
   "cell_type": "code",
   "execution_count": 56,
   "id": "6a711df9",
   "metadata": {},
   "outputs": [
    {
     "data": {
      "text/plain": [
       "{'AC/DC', 'Back in Black', 'The Dark Side of the Moon', 'Thriller'}"
      ]
     },
     "execution_count": 56,
     "metadata": {},
     "output_type": "execute_result"
    }
   ],
   "source": [
    "album_set_1.union(album_set_2)"
   ]
  },
  {
   "cell_type": "code",
   "execution_count": 57,
   "id": "d7a9cc62",
   "metadata": {},
   "outputs": [
    {
     "data": {
      "text/plain": [
       "True"
      ]
     },
     "execution_count": 57,
     "metadata": {},
     "output_type": "execute_result"
    }
   ],
   "source": [
    " album_set_3.issubset(album_set_1)"
   ]
  },
  {
   "cell_type": "code",
   "execution_count": 58,
   "id": "c88de342",
   "metadata": {},
   "outputs": [],
   "source": [
    "# Dictionaries"
   ]
  },
  {
   "cell_type": "code",
   "execution_count": 59,
   "id": "6b01417a",
   "metadata": {},
   "outputs": [
    {
     "data": {
      "text/plain": [
       "{'Thriller': 1982,\n",
       " 'Back in Black': 1980,\n",
       " 'The Dark Side of the Moon': 1973,\n",
       " 'The Bodyguard': 1992}"
      ]
     },
     "execution_count": 59,
     "metadata": {},
     "output_type": "execute_result"
    }
   ],
   "source": [
    "DICT = {\"Thriller\" : 1982, \"Back in Black\" : 1980, \"The Dark Side of the Moon\" : 1973, \"The Bodyguard\" : 1992}\n",
    "DICT"
   ]
  },
  {
   "cell_type": "code",
   "execution_count": 60,
   "id": "6cf7ce00",
   "metadata": {},
   "outputs": [
    {
     "data": {
      "text/plain": [
       "1982"
      ]
     },
     "execution_count": 60,
     "metadata": {},
     "output_type": "execute_result"
    }
   ],
   "source": [
    "DICT[\"Thriller\"]"
   ]
  },
  {
   "cell_type": "code",
   "execution_count": 61,
   "id": "e6b600de",
   "metadata": {},
   "outputs": [
    {
     "data": {
      "text/plain": [
       "{'Thriller': 1982,\n",
       " 'Back in Black': 1980,\n",
       " 'The Dark Side of the Moon': 1973,\n",
       " 'The Bodyguard': 1992,\n",
       " 'Graduation': '2007'}"
      ]
     },
     "execution_count": 61,
     "metadata": {},
     "output_type": "execute_result"
    }
   ],
   "source": [
    "DICT[\"Graduation\"] = '2007'\n",
    "DICT"
   ]
  },
  {
   "cell_type": "code",
   "execution_count": 62,
   "id": "b4233b29",
   "metadata": {},
   "outputs": [
    {
     "data": {
      "text/plain": [
       "dict"
      ]
     },
     "execution_count": 62,
     "metadata": {},
     "output_type": "execute_result"
    }
   ],
   "source": [
    "del(DICT['Thriller'])\n",
    "dict"
   ]
  },
  {
   "cell_type": "code",
   "execution_count": 63,
   "id": "23dc111c",
   "metadata": {},
   "outputs": [
    {
     "data": {
      "text/plain": [
       "True"
      ]
     },
     "execution_count": 63,
     "metadata": {},
     "output_type": "execute_result"
    }
   ],
   "source": [
    "\"The Bodyguard\" in DICT"
   ]
  },
  {
   "cell_type": "code",
   "execution_count": 64,
   "id": "5b4edb67",
   "metadata": {},
   "outputs": [
    {
     "data": {
      "text/plain": [
       "False"
      ]
     },
     "execution_count": 64,
     "metadata": {},
     "output_type": "execute_result"
    }
   ],
   "source": [
    "\"Starboy\" in DICT"
   ]
  },
  {
   "cell_type": "code",
   "execution_count": 65,
   "id": "8d60cf7f",
   "metadata": {},
   "outputs": [
    {
     "data": {
      "text/plain": [
       "dict_keys(['Back in Black', 'The Dark Side of the Moon', 'The Bodyguard', 'Graduation'])"
      ]
     },
     "execution_count": 65,
     "metadata": {},
     "output_type": "execute_result"
    }
   ],
   "source": [
    "DICT.keys()"
   ]
  },
  {
   "cell_type": "code",
   "execution_count": 66,
   "id": "ee72366d",
   "metadata": {},
   "outputs": [
    {
     "data": {
      "text/plain": [
       "dict_values([1980, 1973, 1992, '2007'])"
      ]
     },
     "execution_count": 66,
     "metadata": {},
     "output_type": "execute_result"
    }
   ],
   "source": [
    "DICT.values()"
   ]
  },
  {
   "cell_type": "code",
   "execution_count": null,
   "id": "13f05e18",
   "metadata": {},
   "outputs": [],
   "source": []
  }
 ],
 "metadata": {
  "kernelspec": {
   "display_name": "Python 3",
   "language": "python",
   "name": "python3"
  },
  "language_info": {
   "codemirror_mode": {
    "name": "ipython",
    "version": 3
   },
   "file_extension": ".py",
   "mimetype": "text/x-python",
   "name": "python",
   "nbconvert_exporter": "python",
   "pygments_lexer": "ipython3",
   "version": "3.8.8"
  }
 },
 "nbformat": 4,
 "nbformat_minor": 5
}
